{
 "cells": [
  {
   "cell_type": "code",
   "execution_count": 2,
   "metadata": {},
   "outputs": [
    {
     "name": "stdout",
     "output_type": "stream",
     "text": [
      "[{'entity_group': 'Gene', 'score': 0.9947220087051392, 'word': 'kras', 'start': 0, 'end': 3}, {'entity_group': 'Dna', 'score': 0.8577249050140381, 'word': 'proto-oncogene', 'start': 10, 'end': 23}, {'entity_group': 'Disease', 'score': 0.9998258948326111, 'word': 'cancers', 'start': 45, 'end': 51}]\n"
     ]
    }
   ],
   "source": [
    "def transform_entities(data):\n",
    "    all_entities = []\n",
    "\n",
    "    # Extract entities and probabilities from different categories\n",
    "    for category, entities in data['entities'].items():\n",
    "        if data['prob'][category]:\n",
    "            for entity, prob in zip(entities, data['prob'][category]):\n",
    "                all_entities.append({\n",
    "                    'entity_group': category.capitalize(),\n",
    "                    'score': prob[1],\n",
    "                    'word': data['abstract'][entity['start']:entity['end']+1],  # Adjust slicing here\n",
    "                    'start': entity['start'],\n",
    "                    'end': entity['end']\n",
    "                })\n",
    "\n",
    "    # Sort entities by start, end, and -score (negative score for descending order)\n",
    "    all_entities.sort(key=lambda x: (x['start'], x['end'], -x['score']))\n",
    "\n",
    "    # Filter out overlapping entities, keeping only the one with the highest score\n",
    "    non_overlapping_entities = []\n",
    "    last_end = -1\n",
    "\n",
    "    for entity in all_entities:\n",
    "        if entity['start'] >= last_end:\n",
    "            non_overlapping_entities.append(entity)\n",
    "            last_end = entity['end']\n",
    "\n",
    "    return non_overlapping_entities\n",
    "\n",
    "# Example data input\n",
    "data = {\n",
    "    'pmid': '6b3838a5a74c4caa39f6071125ac7149f3c15cee940ed1034bec68b6',\n",
    "    'entities': {\n",
    "        'disease': [{'start': 45, 'end': 51}],\n",
    "        'drug': [],\n",
    "        'gene': [{'start': 0, 'end': 3}],\n",
    "        'species': [],\n",
    "        'cell_line': [],\n",
    "        'DNA': [{'start': 0, 'end': 3}, {'start': 10, 'end': 23}],\n",
    "        'RNA': [],\n",
    "        'cell_type': []\n",
    "    },\n",
    "    'title': '',\n",
    "    'abstract': 'kras is a proto-oncogene involved in various cancers.',\n",
    "    'prob': {\n",
    "        'disease': [[{'start': 45, 'end': 51}, 0.9998258948326111]],\n",
    "        'drug': [],\n",
    "        'gene': [[{'start': 0, 'end': 3}, 0.9947220087051392]],\n",
    "        'species': [],\n",
    "        'cell_line': [],\n",
    "        'DNA': [[{'start': 0, 'end': 3}, 0.8248917460441589], [{'start': 10, 'end': 23}, 0.8577249050140381]],\n",
    "        'RNA': [],\n",
    "        'cell_type': []\n",
    "    },\n",
    "    'num_entities': 4,\n",
    "    'elapse_time': {'biomedner_elapse_time': 0.3346831798553467, 'ner_elapse_time': 0.33543848991394043},\n",
    "    'error_code': 0,\n",
    "    'error_message': ''\n",
    "}\n",
    "\n",
    "# Transforming the example data\n",
    "transformed_data = transform_entities(data)\n",
    "print(transformed_data)\n"
   ]
  },
  {
   "cell_type": "code",
   "execution_count": null,
   "metadata": {},
   "outputs": [],
   "source": []
  },
  {
   "cell_type": "code",
   "execution_count": null,
   "metadata": {},
   "outputs": [],
   "source": []
  }
 ],
 "metadata": {
  "kernelspec": {
   "display_name": "base",
   "language": "python",
   "name": "python3"
  },
  "language_info": {
   "codemirror_mode": {
    "name": "ipython",
    "version": 3
   },
   "file_extension": ".py",
   "mimetype": "text/x-python",
   "name": "python",
   "nbconvert_exporter": "python",
   "pygments_lexer": "ipython3",
   "version": "3.11.4"
  }
 },
 "nbformat": 4,
 "nbformat_minor": 2
}
